{
 "cells": [
  {
   "cell_type": "code",
   "execution_count": 2,
   "outputs": [
    {
     "name": "stdout",
     "output_type": "stream",
     "text": [
      "1 2 \n"
     ]
    }
   ],
   "source": [
    "ll = 1\n",
    "ur = 2\n",
    "print(\"{ll} {ur} \".format(ll=str(ll), ur=str(ur)))"
   ],
   "metadata": {
    "collapsed": false,
    "pycharm": {
     "name": "#%%\n"
    }
   }
  },
  {
   "cell_type": "code",
   "execution_count": 35,
   "outputs": [],
   "source": [
    "class Coordinate(object):\n",
    "\n",
    "    def __init__(self, coordx, coordy):\n",
    "        self.x = coordx\n",
    "        self.y = coordy\n",
    "\n",
    "    def __str__(self):\n",
    "        return str(\"{x} {y} \".format(x=str(self.x), y=str(self.y)))\n",
    "\n",
    "\n",
    "class Rect(object):\n",
    "\n",
    "    def __init__(self, llx, lly, urx, ury):\n",
    "        self.m_ll = Coordinate(llx, lly)\n",
    "        self.m_ur = Coordinate(urx, ury)\n",
    "\n",
    "    @property\n",
    "    def ll(self):\n",
    "        return self.m_ll\n",
    "\n",
    "    @property\n",
    "    def ur(self):\n",
    "        return self.m_ur\n",
    "\n",
    "    def __str__(self):\n",
    "        return str(\"{ll}{length} {width}\\n\".format(ll=str(self.m_ll), length=str(self.m_ur.x - self.m_ll.x), width=str(self.m_ur.y - self.m_ll.y)))"
   ],
   "metadata": {
    "collapsed": false,
    "pycharm": {
     "name": "#%%\n"
    }
   }
  },
  {
   "cell_type": "code",
   "execution_count": 36,
   "outputs": [],
   "source": [
    "a = Rect(1, 2, 3, 4)"
   ],
   "metadata": {
    "collapsed": false,
    "pycharm": {
     "name": "#%%\n"
    }
   }
  },
  {
   "cell_type": "code",
   "execution_count": 37,
   "outputs": [
    {
     "data": {
      "text/plain": "'1 2 2 2\\n'"
     },
     "execution_count": 37,
     "metadata": {},
     "output_type": "execute_result"
    }
   ],
   "source": [
    "str(a)"
   ],
   "metadata": {
    "collapsed": false,
    "pycharm": {
     "name": "#%%\n"
    }
   }
  },
  {
   "cell_type": "code",
   "execution_count": 15,
   "outputs": [],
   "source": [
    "class Polygon(object):\n",
    "\n",
    "    def __init__(self):\n",
    "        m_points = []   # vector<Coordinate *>\n",
    "        m_convertedRects = []\n",
    "\n",
    "    def add_point(self, x, y):\n",
    "        coord = Coordinate(x, y)\n",
    "        self.m_points.append(coord)\n",
    "\n",
    "    def __str__(self):\n",
    "        pass\n",
    "\n",
    "    def convert_rect(self):\n",
    "        pass\n",
    "\n",
    "    def point_in_polygan(self, x, y):\n",
    "        pass"
   ],
   "metadata": {
    "collapsed": false,
    "pycharm": {
     "name": "#%%\n"
    }
   }
  },
  {
   "cell_type": "code",
   "execution_count": 17,
   "outputs": [],
   "source": [
    "a = Polygon()"
   ],
   "metadata": {
    "collapsed": false,
    "pycharm": {
     "name": "#%%\n"
    }
   }
  },
  {
   "cell_type": "code",
   "execution_count": 18,
   "outputs": [
    {
     "ename": "AttributeError",
     "evalue": "'Polygon' object has no attribute 'm_points'",
     "output_type": "error",
     "traceback": [
      "\u001B[0;31m---------------------------------------------------------------------------\u001B[0m",
      "\u001B[0;31mAttributeError\u001B[0m                            Traceback (most recent call last)",
      "Input \u001B[0;32mIn [18]\u001B[0m, in \u001B[0;36m<cell line: 1>\u001B[0;34m()\u001B[0m\n\u001B[0;32m----> 1\u001B[0m \u001B[43ma\u001B[49m\u001B[38;5;241;43m.\u001B[39;49m\u001B[43madd_point\u001B[49m\u001B[43m(\u001B[49m\u001B[38;5;241;43m1\u001B[39;49m\u001B[43m,\u001B[49m\u001B[43m \u001B[49m\u001B[38;5;241;43m2\u001B[39;49m\u001B[43m)\u001B[49m\n",
      "Input \u001B[0;32mIn [15]\u001B[0m, in \u001B[0;36mPolygon.add_point\u001B[0;34m(self, x, y)\u001B[0m\n\u001B[1;32m      7\u001B[0m \u001B[38;5;28;01mdef\u001B[39;00m \u001B[38;5;21madd_point\u001B[39m(\u001B[38;5;28mself\u001B[39m, x, y):\n\u001B[1;32m      8\u001B[0m     coord \u001B[38;5;241m=\u001B[39m Coordinate(x, y)\n\u001B[0;32m----> 9\u001B[0m     \u001B[38;5;28;43mself\u001B[39;49m\u001B[38;5;241;43m.\u001B[39;49m\u001B[43mm_points\u001B[49m\u001B[38;5;241m.\u001B[39mappend(coord)\n",
      "\u001B[0;31mAttributeError\u001B[0m: 'Polygon' object has no attribute 'm_points'"
     ]
    }
   ],
   "source": [
    "a.add_point(1, 2)"
   ],
   "metadata": {
    "collapsed": false,
    "pycharm": {
     "name": "#%%\n"
    }
   }
  },
  {
   "cell_type": "code",
   "execution_count": 20,
   "outputs": [],
   "source": [
    "a = set()\n",
    "a.add(3)\n",
    "a.add(1)\n",
    "a.add(2)"
   ],
   "metadata": {
    "collapsed": false,
    "pycharm": {
     "name": "#%%\n"
    }
   }
  },
  {
   "cell_type": "code",
   "execution_count": 22,
   "outputs": [
    {
     "data": {
      "text/plain": "{1, 2, 3}"
     },
     "execution_count": 22,
     "metadata": {},
     "output_type": "execute_result"
    }
   ],
   "source": [
    "a"
   ],
   "metadata": {
    "collapsed": false,
    "pycharm": {
     "name": "#%%\n"
    }
   }
  },
  {
   "cell_type": "code",
   "execution_count": 23,
   "outputs": [
    {
     "data": {
      "text/plain": "3"
     },
     "execution_count": 23,
     "metadata": {},
     "output_type": "execute_result"
    }
   ],
   "source": [
    "len(a)"
   ],
   "metadata": {
    "collapsed": false,
    "pycharm": {
     "name": "#%%\n"
    }
   }
  },
  {
   "cell_type": "code",
   "execution_count": 27,
   "outputs": [
    {
     "ename": "TypeError",
     "evalue": "'set' object is not subscriptable",
     "output_type": "error",
     "traceback": [
      "\u001B[0;31m---------------------------------------------------------------------------\u001B[0m",
      "\u001B[0;31mTypeError\u001B[0m                                 Traceback (most recent call last)",
      "Input \u001B[0;32mIn [27]\u001B[0m, in \u001B[0;36m<cell line: 1>\u001B[0;34m()\u001B[0m\n\u001B[0;32m----> 1\u001B[0m \u001B[43ma\u001B[49m\u001B[43m[\u001B[49m\u001B[38;5;241;43m0\u001B[39;49m\u001B[43m]\u001B[49m\n",
      "\u001B[0;31mTypeError\u001B[0m: 'set' object is not subscriptable"
     ]
    }
   ],
   "source": [
    "a[0]"
   ],
   "metadata": {
    "collapsed": false,
    "pycharm": {
     "name": "#%%\n"
    }
   }
  },
  {
   "cell_type": "code",
   "execution_count": 25,
   "outputs": [],
   "source": [
    "b = list(a)"
   ],
   "metadata": {
    "collapsed": false,
    "pycharm": {
     "name": "#%%\n"
    }
   }
  },
  {
   "cell_type": "code",
   "execution_count": 28,
   "outputs": [
    {
     "name": "stdout",
     "output_type": "stream",
     "text": [
      "['BEGIN', '/*', 'GL1TOGULP', 'CALLED', 'ON', 'FRI', 'MAY', '17', '11:33:25', '2013', '*/', 'EQUIV', '1', '1000', 'MICRON', '+X,+Y', 'CNAME', 'Temp_Top', 'LEVEL', 'M1', 'CELL', 'Temp_Top', 'PRIME', 'RECT', 'N', 'M1', '80', '492', '452', '88', 'PGON', 'N', 'M1', '216', '80', '304', '80', '304', '140', '324', '140', '324', '220', '216', '220', 'PGON', 'N', 'M1', '216', '292', '324', '292', '324', '372', '304', '372', '304', '432', '216', '432', 'PGON', 'N', 'M1', '216', '640', '304', '640', '304', '700', '324', '700', '324', '780', '216', '780', 'RECT', 'N', 'M1', '396', '208', '228', '96', 'RECT', 'N', 'M1', '396', '768', '228', '92', 'RECT', 'N', 'M1', '628', '480', '140', '112', 'PGON', 'N', 'M1', '420', '84', '744', '84', '744', '216', '680', '216', '680', '148', '420', '148', 'PGON', 'N', 'M1', '420', '364', '680', '364', '680', '296', '744', '296', '744', '428', '420', '428', 'PGON', 'N', 'M1', '420', '644', '744', '644', '744', '776', '680', '776', '680', '708', '420', '708', 'ENDMSG']\n"
     ]
    }
   ],
   "source": [
    "with open(\"test.txt\", 'r') as f:\n",
    "    contents = f.readlines()\n",
    "\n",
    "process_contents = []\n",
    "for i in range(len(contents)):\n",
    "    if contents[i][-1] == \"\\n\":\n",
    "        contents[i] = contents[i][:-1]\n",
    "\n",
    "for content in contents:\n",
    "    content_list = content.split(\" \")\n",
    "    temp = [x.strip() for x in content_list if x.strip()!='']\n",
    "    if temp is not None:\n",
    "        process_contents += temp\n",
    "\n",
    "print(process_contents)"
   ],
   "metadata": {
    "collapsed": false,
    "pycharm": {
     "name": "#%%\n"
    }
   }
  },
  {
   "cell_type": "code",
   "execution_count": 29,
   "outputs": [
    {
     "name": "stdout",
     "output_type": "stream",
     "text": [
      "2\n",
      "1\n",
      "4\n",
      "3\n",
      "6\n",
      "5\n",
      "8\n",
      "7\n",
      "10\n",
      "9\n"
     ]
    }
   ],
   "source": [
    "for i in range(10):\n",
    "    if i%2 == 0:\n",
    "        i += 2\n",
    "    print(i)"
   ],
   "metadata": {
    "collapsed": false,
    "pycharm": {
     "name": "#%%\n"
    }
   }
  },
  {
   "cell_type": "code",
   "execution_count": 31,
   "outputs": [],
   "source": [
    "a = \"123\".isdigit()"
   ],
   "metadata": {
    "collapsed": false,
    "pycharm": {
     "name": "#%%\n"
    }
   }
  },
  {
   "cell_type": "code",
   "execution_count": 32,
   "outputs": [
    {
     "name": "stdout",
     "output_type": "stream",
     "text": [
      "True\n"
     ]
    }
   ],
   "source": [
    "print(a)"
   ],
   "metadata": {
    "collapsed": false,
    "pycharm": {
     "name": "#%%\n"
    }
   }
  },
  {
   "cell_type": "code",
   "execution_count": null,
   "outputs": [],
   "source": [],
   "metadata": {
    "collapsed": false,
    "pycharm": {
     "name": "#%%\n"
    }
   }
  }
 ],
 "metadata": {
  "kernelspec": {
   "display_name": "Python 3",
   "language": "python",
   "name": "python3"
  },
  "language_info": {
   "codemirror_mode": {
    "name": "ipython",
    "version": 2
   },
   "file_extension": ".py",
   "mimetype": "text/x-python",
   "name": "python",
   "nbconvert_exporter": "python",
   "pygments_lexer": "ipython2",
   "version": "2.7.6"
  }
 },
 "nbformat": 4,
 "nbformat_minor": 0
}